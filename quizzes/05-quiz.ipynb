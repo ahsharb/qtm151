{
 "cells": [
  {
   "attachments": {},
   "cell_type": "markdown",
   "metadata": {},
   "source": [
    "# QTM 151 - Quiz 5"
   ]
  },
  {
   "attachments": {},
   "cell_type": "markdown",
   "metadata": {},
   "source": [
    "### Please try to submit the quiz as an HTML file"
   ]
  },
  {
   "cell_type": "markdown",
   "metadata": {},
   "source": [
    "<font size = \"5\">\n",
    "Print your name below"
   ]
  },
  {
   "cell_type": "code",
   "execution_count": null,
   "metadata": {},
   "outputs": [],
   "source": [
    "# Write your answer here\n",
    "#Ahshar Brown"
   ]
  },
  {
   "cell_type": "markdown",
   "metadata": {},
   "source": [
    "<font size = \"5\" >\n",
    "This quiz is open book \n",
    "\n",
    "- You can use the lecture notes\n",
    "- You will get partial credit for attempting the questions\n",
    "- To get full credit, the code should run as intended\n",
    "- You should <span style=\"color:red\"> NOT </span> communicate with other students\n",
    "\n",
    "Write the following message as a comment: <br>\n",
    "\n",
    "\"I will abide by Emory's code of conduct\"\n"
   ]
  },
  {
   "cell_type": "code",
   "execution_count": null,
   "metadata": {},
   "outputs": [],
   "source": [
    "# Write your own code\n",
    "#I will abide by Emory's code of conduct "
   ]
  },
  {
   "attachments": {},
   "cell_type": "markdown",
   "metadata": {},
   "source": [
    "<font size = \"5\">\n",
    "\n",
    "Import the libraries `matplotlib.pyplot` and `pandas`"
   ]
  },
  {
   "cell_type": "code",
   "execution_count": 1,
   "metadata": {},
   "outputs": [],
   "source": [
    "# Write your answer here\n",
    "import pandas as pd\n",
    "import matplotlib.pyplot as plt "
   ]
  },
  {
   "cell_type": "markdown",
   "metadata": {},
   "source": [
    "<font size = \"5\">\n",
    "\n",
    "In this quiz, we will work with a World Bank dataset on the proportion of urban population across countries, from 2016-2020.\n",
    "\n",
    "- This is an example of a \"panel\"/\"longitudinal\" dataset which contains information about the same unit (country) over time.\n",
    "- This is in \"long\" format (see Lectures 21 and 23)"
   ]
  },
  {
   "attachments": {},
   "cell_type": "markdown",
   "metadata": {},
   "source": [
    "\n",
    "<font size = \"5\">\n",
    "\n",
    "(a) Import and parse dates\n",
    "\n",
    "- Import `data_raw/wdi_long.csv`\n",
    "- Create a new column called `date` which uses ```pd.to_datetime(...,format = ...)``` to convert year to a date format.\n",
    "- To get full points, use wild cards to establish the format.\n"
   ]
  },
  {
   "cell_type": "code",
   "execution_count": 9,
   "metadata": {},
   "outputs": [
    {
     "name": "stdout",
     "output_type": "stream",
     "text": [
      "      year year_code           country_name country_code  prop_urban  \\\n",
      "0     2016    YR2016            Afghanistan          AFG      25.020   \n",
      "1     2016    YR2016                Albania          ALB      58.421   \n",
      "2     2016    YR2016                Algeria          DZA      71.459   \n",
      "3     2016    YR2016         American Samoa          ASM      87.198   \n",
      "4     2016    YR2016                Andorra          AND      88.248   \n",
      "...    ...       ...                    ...          ...         ...   \n",
      "1080  2020    YR2020  Virgin Islands (U.S.)          VIR      95.939   \n",
      "1081  2020    YR2020     West Bank and Gaza          PSE      76.719   \n",
      "1082  2020    YR2020            Yemen, Rep.          YEM      37.908   \n",
      "1083  2020    YR2020                 Zambia          ZMB      44.629   \n",
      "1084  2020    YR2020               Zimbabwe          ZWE      32.242   \n",
      "\n",
      "           date  \n",
      "0    2016-01-01  \n",
      "1    2016-01-01  \n",
      "2    2016-01-01  \n",
      "3    2016-01-01  \n",
      "4    2016-01-01  \n",
      "...         ...  \n",
      "1080 2020-01-01  \n",
      "1081 2020-01-01  \n",
      "1082 2020-01-01  \n",
      "1083 2020-01-01  \n",
      "1084 2020-01-01  \n",
      "\n",
      "[1085 rows x 6 columns]\n"
     ]
    }
   ],
   "source": [
    "# Write your own code\n",
    "file_path = 'data_quiz/wdi_long.csv'  # I had to save it in the data_quiz folder since I manually imported it \n",
    "data = pd.read_csv(file_path)\n",
    "\n",
    "data['date'] = pd.to_datetime(data['year'], format='%Y')\n",
    "print(data)\n"
   ]
  },
  {
   "attachments": {},
   "cell_type": "markdown",
   "metadata": {},
   "source": [
    "<font size = \"5\">\n",
    "\n",
    "(b) Sort time series\n",
    "\n",
    "- Sort ```wdi_long``` by ```country_name``` and ```year``` in ascending order. Call this new dataset, ```wdi_sorted```\n",
    "\n",
    "HINT: See Lecture 10a for how to sort. You can sort by multiple variables by entering them as a list ```[[...]]``` \n",
    "\n",
    "NOTE: Sorting is very important when using time series data, particularly for plotting and data cleaning, since observations are ordered in sequence from earliest to latest.\n",
    "\n"
   ]
  },
  {
   "cell_type": "code",
   "execution_count": 8,
   "metadata": {},
   "outputs": [
    {
     "name": "stdout",
     "output_type": "stream",
     "text": [
      "      year year_code country_name country_code  prop_urban       date\n",
      "0     2016    YR2016  Afghanistan          AFG      25.020 2016-01-01\n",
      "217   2017    YR2017  Afghanistan          AFG      25.250 2017-01-01\n",
      "434   2018    YR2018  Afghanistan          AFG      25.495 2018-01-01\n",
      "651   2019    YR2019  Afghanistan          AFG      25.754 2019-01-01\n",
      "868   2020    YR2020  Afghanistan          AFG      26.026 2020-01-01\n",
      "...    ...       ...          ...          ...         ...        ...\n",
      "216   2016    YR2016     Zimbabwe          ZWE      32.296 2016-01-01\n",
      "433   2017    YR2017     Zimbabwe          ZWE      32.237 2017-01-01\n",
      "650   2018    YR2018     Zimbabwe          ZWE      32.209 2018-01-01\n",
      "867   2019    YR2019     Zimbabwe          ZWE      32.210 2019-01-01\n",
      "1084  2020    YR2020     Zimbabwe          ZWE      32.242 2020-01-01\n",
      "\n",
      "[1085 rows x 6 columns]\n"
     ]
    }
   ],
   "source": [
    "# Write your own code\n",
    "wdi_sorted = data.sort_values([\"country_name\", \"year\"], ascending=True)\n",
    "print(wdi_sorted)"
   ]
  },
  {
   "cell_type": "markdown",
   "metadata": {},
   "source": [
    "<font size = \"5\">\n",
    "\n",
    "(c) Flag subset of data and plot\n",
    "\n",
    "- For the sorted dataset, subset all entries of ```wdi_sorted``` from part (b) where ```country_name``` to equal ```\"United States\"``` using ```.query()```. Call this new dataset ```wdi_usa```\n",
    "- Create a line plot with year on the x-axis and ```prop_urban``` on the y-axis\n",
    "- Label the x-axis, the y-axis, and the title\n",
    "\n",
    "HINT: You can use ```.query()``` to subset to \"United States\" by using escape characters, e.g. ``` country_name == \\\"United States\\\" ```. See Lecture 11 for how to use query."
   ]
  },
  {
   "cell_type": "code",
   "execution_count": 28,
   "metadata": {},
   "outputs": [
    {
     "data": {
      "image/png": "[encoded data removed]",
      "text/plain": [
       "<Figure size 640x480 with 1 Axes>"
      ]
     },
     "metadata": {},
     "output_type": "display_data"
    }
   ],
   "source": [
    "# Write your own code\n",
    "wdi_usa = wdi_sorted.query('country_name == \\\"United States\\\"')\n",
    "\n",
    "plt.plot(\"year\", \"prop_urban\", data = wdi_usa)\n",
    "\n",
    "plt.xlabel('Year')\n",
    "plt.ylabel('Proportion Urban')\n",
    "plt.title('Urbanization in the United States Over Time')\n",
    "plt.show()\n",
    "\n",
    "\n"
   ]
  },
  {
   "cell_type": "markdown",
   "metadata": {},
   "source": [
    "<font size = \"5\">\n",
    "\n",
    "(d) Obtain yearly growth rates by country\n",
    "\n",
    "- For this question you will use ```wdi_sorted``` that you created in part (b)\n",
    "- Use ```.groupby()```, ```.diff()```, and ```.shift()``` to compute the yearly growth rates in the urban population by country. \n",
    "- Store your results in a new column of ```wdi_sorted``` called ``` growth_prop_urban```. \n",
    "\n",
    "HINT: See Lectures 21 and 23.\n"
   ]
  },
  {
   "cell_type": "code",
   "execution_count": 25,
   "metadata": {},
   "outputs": [
    {
     "name": "stdout",
     "output_type": "stream",
     "text": [
      "     country_name  year  prop_urban  growth_prop_urban\n",
      "0     Afghanistan  2016      25.020                NaN\n",
      "217   Afghanistan  2017      25.250           0.009193\n",
      "434   Afghanistan  2018      25.495           0.009703\n",
      "651   Afghanistan  2019      25.754           0.010159\n",
      "868   Afghanistan  2020      26.026           0.010561\n",
      "...           ...   ...         ...                ...\n",
      "216      Zimbabwe  2016      32.296                NaN\n",
      "433      Zimbabwe  2017      32.237          -0.001827\n",
      "650      Zimbabwe  2018      32.209          -0.000869\n",
      "867      Zimbabwe  2019      32.210           0.000031\n",
      "1084     Zimbabwe  2020      32.242           0.000993\n",
      "\n",
      "[1085 rows x 4 columns]\n"
     ]
    }
   ],
   "source": [
    "# Write your own code\n",
    "wdi_sorted[\"diff_prop_urban\"] = wdi_sorted.groupby(\"country_name\")[\"prop_urban\"].diff()\n",
    "wdi_sorted[\"lag_prop_urban\"] = wdi_sorted.groupby(\"country_name\")[\"prop_urban\"].shift(1)\n",
    "wdi_sorted[\"growth_prop_urban\"] = wdi_sorted[\"diff_prop_urban\"] / wdi_sorted[\"lag_prop_urban\"]\n",
    "\n",
    "print(wdi_sorted[[\"country_name\", \"year\", \"prop_urban\", \"growth_prop_urban\"]])\n"
   ]
  },
  {
   "cell_type": "markdown",
   "metadata": {},
   "source": [
    "<font size = \"5\">\n",
    "\n",
    "(e) Obtain average yearly growth rates\n",
    "\n",
    "- This question follows-up to part (d).\n",
    "- Use ```.groupby()```, ```.agg()``` to compute the average of ```growth_prop_urban```\n",
    "\n",
    "HINT: See Lecture 14 for how to compute grouped statistics. \n"
   ]
  },
  {
   "cell_type": "code",
   "execution_count": 15,
   "metadata": {},
   "outputs": [
    {
     "name": "stdout",
     "output_type": "stream",
     "text": [
      "              country_name  average_growth_prop_urban\n",
      "0              Afghanistan                   0.009904\n",
      "1                  Albania                   0.015434\n",
      "2                  Algeria                   0.007862\n",
      "3           American Samoa                  -0.000129\n",
      "4                  Andorra                  -0.000942\n",
      "..                     ...                        ...\n",
      "212  Virgin Islands (U.S.)                   0.001200\n",
      "213     West Bank and Gaza                   0.003587\n",
      "214            Yemen, Rep.                   0.017303\n",
      "215                 Zambia                   0.012664\n",
      "216               Zimbabwe                  -0.000418\n",
      "\n",
      "[217 rows x 2 columns]\n"
     ]
    }
   ],
   "source": [
    "# Write your own code\n",
    "average_growth_prop_urban_rates = (wdi_sorted\n",
    "                        .groupby('country_name')\n",
    "                        .agg(average_growth_prop_urban=('growth_prop_urban', 'mean'))\n",
    "                        .reset_index())\n",
    "\n",
    "print(average_growth_prop_urban_rates)\n"
   ]
  },
  {
   "attachments": {},
   "cell_type": "markdown",
   "metadata": {},
   "source": [
    "<font size = \"5\">\n",
    "\n",
    "(f) Convert dataset to wide format\n",
    "\n",
    "- Convert `wdi_sorted` from long to wide, using the following arguments: <br>\n",
    "```\n",
    "   index = 'country_name'\n",
    "   columns = 'year'\n",
    "   values =  'prop_urban'\n",
    "```\n",
    "- Display the dataset to check that it is in wide format\n",
    "\n",
    "HINT: See Lecture 23 for details on how to use ```pd.pivot()```"
   ]
  },
  {
   "cell_type": "code",
   "execution_count": 17,
   "metadata": {},
   "outputs": [
    {
     "name": "stdout",
     "output_type": "stream",
     "text": [
      "year                     2016    2017    2018    2019    2020\n",
      "country_name                                                 \n",
      "Afghanistan            25.020  25.250  25.495  25.754  26.026\n",
      "Albania                58.421  59.383  60.319  61.229  62.112\n",
      "Algeria                71.459  72.052  72.629  73.189  73.733\n",
      "American Samoa         87.198  87.170  87.153  87.147  87.153\n",
      "Andorra                88.248  88.150  88.062  87.984  87.916\n",
      "...                       ...     ...     ...     ...     ...\n",
      "Virgin Islands (U.S.)  95.480  95.603  95.721  95.832  95.939\n",
      "West Bank and Gaza     75.628  75.894  76.164  76.440  76.719\n",
      "Yemen, Rep.            35.394  36.016  36.642  37.273  37.908\n",
      "Zambia                 42.438  42.976  43.521  44.072  44.629\n",
      "Zimbabwe               32.296  32.237  32.209  32.210  32.242\n",
      "\n",
      "[217 rows x 5 columns]\n"
     ]
    }
   ],
   "source": [
    "# Write your own code\n",
    "wdi_wide = wdi_sorted.pivot(index='country_name', \n",
    "                            columns='year', \n",
    "                            values='prop_urban')\n",
    "\n",
    "print(wdi_wide)\n"
   ]
  }
 ],
 "metadata": {
  "kernelspec": {
   "display_name": "base",
   "language": "python",
   "name": "python3"
  },
  "language_info": {
   "codemirror_mode": {
    "name": "ipython",
    "version": 3
   },
   "file_extension": ".py",
   "mimetype": "text/x-python",
   "name": "python",
   "nbconvert_exporter": "python",
   "pygments_lexer": "ipython3",
   "version": "3.12.4"
  },
  "orig_nbformat": 4,
  "vscode": {
   "interpreter": {
    "hash": "45fc1f684f6f416f40889115beff3ddf69879b64cf4bfee48cb72a61e9d15d1a"
   }
  }
 },
 "nbformat": 4,
 "nbformat_minor": 2
}
