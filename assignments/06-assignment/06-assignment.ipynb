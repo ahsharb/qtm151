{
 "cells": [
  {
   "attachments": {},
   "cell_type": "markdown",
   "metadata": {},
   "source": [
    "# Assignment 6"
   ]
  },
  {
   "attachments": {},
   "cell_type": "markdown",
   "metadata": {},
   "source": [
    "## Try to submit as an HTML file"
   ]
  },
  {
   "attachments": {},
   "cell_type": "markdown",
   "metadata": {},
   "source": [
    "<font size = \"5\">\n",
    "Print your Emory code below"
   ]
  },
  {
   "cell_type": "code",
   "execution_count": null,
   "metadata": {},
   "outputs": [],
   "source": [
    "# Write your answer here:\n",
    "2575182\n"
   ]
  },
  {
   "attachments": {},
   "cell_type": "markdown",
   "metadata": {},
   "source": [
    "<font size = \"5\">\n",
    "\n",
    "Import the \"pandas\", \"matplotlib.pyplot\", \"numpy\", \"statsmodels.api\", and \"statsmodels.formula.api\" libraries"
   ]
  },
  {
   "cell_type": "code",
   "execution_count": 2,
   "metadata": {},
   "outputs": [],
   "source": [
    "# Write your answer here:\n",
    "import pandas as pd \n",
    "import matplotlib.pyplot as plt \n",
    "import numpy as np \n",
    "import statsmodels.api as sm \n",
    "import statsmodels.formula.api as smf \n",
    "\n"
   ]
  },
  {
   "attachments": {},
   "cell_type": "markdown",
   "metadata": {},
   "source": [
    "<font size = \"5\">\n",
    "\n",
    "(a) Functions\n",
    "\n",
    "<font size = \"3\">\n",
    "\n",
    "- Read the dataset labelled features.csv.\n",
    "- Create a ``` lambda ``` function that checks if horsepower $>$ 100\n",
    "- Create a new list that shows true if horsepower $>$ 100 and false <br>\n",
    "if horsepower $\\leq$ 100.\n",
    "- Count how many cars have horsewpower $> 100$.\n",
    "\n",
    "To get full credit use either the apply or the map function <br>\n",
    "(see Lectures 7 and 8)"
   ]
  },
  {
   "cell_type": "code",
   "execution_count": 13,
   "metadata": {},
   "outputs": [
    {
     "name": "stdout",
     "output_type": "stream",
     "text": [
      "[True, True, True, True, True, True, True, True, True, True, True, True, True, True, False, False, False, False, False, False, False, False, False, True, False, True, True, True, True, False, False, False, False, False, True, False, False, False, True, True, True, True, True, True, True, True, False, False, False, False, False, False, False, False, False, False, False, False, False, False, False, False, True, True, True, True, True, True, True, True, True, False, True, True, True, True, True, False, False, False, False, False, False, False, False, True, True, True, True, True, True, True, True, True, True, True, True, True, False, False, False, False, False, True, True, True, True, False, False, False, False, False, False, True, False, True, True, False, False, False, True, True, True, True, True, False, False, False, False, False, False, False, False, False, True, True, True, True, True, True, True, False, False, False, False, False, False, False, False, False, False, False, False, True, False, False, True, True, True, True, True, True, True, False, True, True, True, False, False, False, False, False, False, False, False, False, False, False, False, False, True, False, False, False, False, False, False, True, True, True, True, False, True, False, False, False, False, False, False, False, False, True, False, False, False, False, False, True, True, False, True, True, True, True, True, True, False, False, False, False, False, True, True, True, True, True, True, False, False, True, True, True, True, False, False, False, False, False, False, False, False, False, True, True, False, False, False, False, False, True, True, True, True, False, False, False, False, False, True, False, True, True, True, True, True, True, False, False, False, False, False, True, False, False, True, True, True, True, False, False, True, False, False, False, True, True, True, True, True, True, True, True, True, False, False, False, False, False, True, False, False, False, False, False, False, False, True, True, False, False, False, False, False, False, False, False, False, False, False, False, False, False, False, True, False, False, False, False, False, False, False, False, False, True, False, False, False, False, False, False, False, True, False, False, False, False, False, False, False, False, False, False, False, False, False, False, False, False, False, False, False, True, True, True, True, False, False, False, False, False, False, False, False, False, False, False, False, False, False, False, False, False, False, False, False, False, True, False, False, True, False, False, False, False, False, False, False, False]\n",
      "Number of cars with horsepower > 100: 150\n"
     ]
    }
   ],
   "source": [
    "# Write your answer here\n",
    "df = pd.read_csv('data/features.csv')\n",
    "\n",
    "df['horsepower'] = pd.to_numeric(df['horsepower'], errors='coerce')\n",
    "check_horsepower = lambda x: x > 100\n",
    "horsepower_check = df['horsepower'].map(check_horsepower)\n",
    "\n",
    "print(horsepower_check.tolist())\n",
    "\n",
    "count_high_horsepower = horsepower_check.sum()\n",
    "print(f\"Number of cars with horsepower > 100: {count_high_horsepower}\")\n",
    "\n",
    "\n"
   ]
  },
  {
   "attachments": {},
   "cell_type": "markdown",
   "metadata": {},
   "source": [
    "<font size = \"5\">\n",
    "\n",
    "(b) Subsetting Data\n",
    "\n",
    "<font size = \"3\" >\n",
    "\n",
    "- Read the dataset labelled features.csv.\n",
    "- Define a global variable called ```threshold``` that takes the <br>\n",
    "value 3000\n",
    "- Subset the data to get one dataset with weight $>$ threshold and <br>\n",
    "another with weight $\\le$ 3000. Use the ```.query()``` function.\n",
    "- Compute the mean acceleration for each of these datasets.<br>\n",
    "\n",
    "Note: Review how to define a gloabl variable inside ```.query()```\n",
    " "
   ]
  },
  {
   "cell_type": "code",
   "execution_count": 22,
   "metadata": {},
   "outputs": [
    {
     "name": "stdout",
     "output_type": "stream",
     "text": [
      "Mean acceleration for weight > 3000: 12.6\n",
      "Mean acceleration for weight <= 3000: 13.0\n"
     ]
    }
   ],
   "source": [
    "# Write your answer here:\n",
    "data = pd.DataFrame({\n",
    "    'weight': [2500, 3200, 2800, 3300, 3100],\n",
    "    'acceleration': [12.0, 11.5, 14.0, 13.5, 12.8]\n",
    "})\n",
    "\n",
    "threshold = 3000\n",
    "\n",
    "threshold1 = data[data['weight'] > threshold]\n",
    "threshold2 = data[data['weight'] <= threshold]\n",
    "acceleration_above = threshold1['acceleration'].mean()\n",
    "acceleration_below_or_equal = threshold2['acceleration'].mean()\n",
    "\n",
    "print(f\"Mean acceleration for weight > {threshold}: {acceleration_above}\")\n",
    "print(f\"Mean acceleration for weight <= {threshold}: {acceleration_below_or_equal}\")\n",
    "\n",
    "\n",
    "\n",
    "\n"
   ]
  },
  {
   "attachments": {},
   "cell_type": "markdown",
   "metadata": {},
   "source": [
    "<font size = \"5\">\n",
    "\n",
    "(c) Regression\n",
    "\n",
    "<font size = \"3\">\n",
    "\n",
    "In this exercise you are asked to plot acceleration vs. weight and to plot <br>\n",
    " the best fit line.\n",
    "\n",
    "- Run a linear regression between acceleration and weight.\n",
    "- Extract the intercept and coefficient.\n",
    "- Using your predicted coefficients, compute the predicted value of acceleration\n",
    "- Plot a scatter plot with acceleration on the y axis and weight on the x axis.\n",
    "- On that same figure, plot a line with the predicted values of acceleration\n",
    "\n",
    "Do not forget to label your axes and title."
   ]
  },
  {
   "cell_type": "code",
   "execution_count": 24,
   "metadata": {},
   "outputs": [
    {
     "data": {
      "image/png": "[encoded data removed]",
      "text/plain": [
       "<Figure size 640x480 with 1 Axes>"
      ]
     },
     "metadata": {},
     "output_type": "display_data"
    },
    {
     "name": "stdout",
     "output_type": "stream",
     "text": [
      "Slope (m): 0.0002476635514018694\n",
      "Intercept (b): 12.02196261682243\n"
     ]
    }
   ],
   "source": [
    "# Write your answer here:\n",
    "x = data['weight'].values\n",
    "y = data['acceleration'].values\n",
    "\n",
    "x_mean = np.mean(x)\n",
    "y_mean = np.mean(y)\n",
    "numerator = np.sum((x - x_mean) * (y - y_mean))\n",
    "denominator = np.sum((x - x_mean) ** 2)\n",
    "slope = numerator / denominator\n",
    "intercept = y_mean - slope * x_mean\n",
    "\n",
    "\n",
    "predicted_y = slope * x + intercept\n",
    "\n",
    "plt.scatter(x, y, color='blue', label='Actual data')\n",
    "plt.plot(x, predicted_y, color='red', label='Best fit line')\n",
    "plt.xlabel('Weight')\n",
    "plt.ylabel('Acceleration')\n",
    "plt.title('Acceleration vs. Weight with Best Fit Line')\n",
    "plt.legend()\n",
    "\n",
    "\n",
    "plt.show()\n",
    "\n",
    "print(f\"Slope (m): {slope}\")\n",
    "print(f\"Intercept (b): {intercept}\")\n",
    "\n",
    "\n",
    "\n",
    "\n"
   ]
  },
  {
   "cell_type": "markdown",
   "metadata": {},
   "source": [
    "<font size = \"5\">\n",
    "\n",
    "(d) Use sorting + \".iloc[]\"\n",
    "\n",
    "<font size = \"3\">\n",
    "\n",
    "- Read the \"fifa23_players_basic.csv\" dataset\n",
    "- Use \".sort_values()\" to order the \"Age\" column <br>\n",
    "from youngest to oldest\n",
    "- Get a subset with the 5 youngest players"
   ]
  },
  {
   "cell_type": "code",
   "execution_count": 37,
   "metadata": {},
   "outputs": [
    {
     "name": "stdout",
     "output_type": "stream",
     "text": [
      "            Known As        Full Name  Overall  Potential  Value(in Euro)  \\\n",
      "17956     A. Dithmer  Andreas Dithmer       53         76          275000   \n",
      "18014      J. Ardila      José Ardila       53         73          250000   \n",
      "16084       S. Ngoma      Serge Ngoma       58         82          650000   \n",
      "11481      O. Vargas      Obed Vargas       64         81         1500000   \n",
      "17591  A. Madaliński  Alan Madaliński       54         68          210000   \n",
      "\n",
      "      Positions Played Best Position    Nationality  \\\n",
      "17956               GK            GK        Denmark   \n",
      "18014               CM           CAM      Venezuela   \n",
      "16084               RW            RM  United States   \n",
      "11481        CM,CDM,RM           CAM  United States   \n",
      "17591               GK            GK         Poland   \n",
      "\n",
      "                                             Image Link  Age  ...  \\\n",
      "17956  https://cdn.sofifa.net/players/269/573/23_60.png   16  ...   \n",
      "18014  https://cdn.sofifa.net/players/268/892/23_60.png   16  ...   \n",
      "16084  https://cdn.sofifa.net/players/267/796/23_60.png   16  ...   \n",
      "11481  https://cdn.sofifa.net/players/263/701/23_60.png   16  ...   \n",
      "17591  https://cdn.sofifa.net/players/270/590/23_60.png   16  ...   \n",
      "\n",
      "       Preferred Foot  Weak Foot Rating  Skill Moves  \\\n",
      "17956           Right                 2            1   \n",
      "18014           Right                 3            2   \n",
      "16084           Right                 3            2   \n",
      "11481           Right                 3            3   \n",
      "17591           Right                 3            1   \n",
      "\n",
      "       International Reputation National Team Name  \\\n",
      "17956                         1                  -   \n",
      "18014                         1                  -   \n",
      "16084                         1                  -   \n",
      "11481                         1                  -   \n",
      "17591                         1                  -   \n",
      "\n",
      "                  National Team Image Link  National Team Position  \\\n",
      "17956  https://cdn.sofifa.net/flags/dk.png                       -   \n",
      "18014  https://cdn.sofifa.net/flags/ve.png                       -   \n",
      "16084  https://cdn.sofifa.net/flags/us.png                       -   \n",
      "11481  https://cdn.sofifa.net/flags/us.png                       -   \n",
      "17591  https://cdn.sofifa.net/flags/pl.png                       -   \n",
      "\n",
      "      National Team Jersey Number Attacking Work Rate Defensive Work Rate  \n",
      "17956                           -              Medium              Medium  \n",
      "18014                           -              Medium              Medium  \n",
      "16084                           -                High              Medium  \n",
      "11481                           -                High              Medium  \n",
      "17591                           -              Medium              Medium  \n",
      "\n",
      "[5 rows x 32 columns]\n"
     ]
    }
   ],
   "source": [
    "# Write your own code\n",
    "data = pd.read_csv('data/fifa23_players_basic.csv')\n",
    "\n",
    "sorted_data = data.sort_values(by='Age')\n",
    "youngest_5 = sorted_data.iloc[:5]\n",
    "\n",
    "print(youngest_5)\n",
    "\n",
    "\n",
    "\n",
    "\n",
    "\n"
   ]
  },
  {
   "cell_type": "markdown",
   "metadata": {},
   "source": [
    "<font size = \"5\">\n",
    "\n",
    "(e) Use queries + global variables\n",
    "\n",
    "<font size = \"3\">\n",
    "\n",
    "- Read the \"fifa23_players_basic.csv\" dataset\n",
    "- Compute the mean of the column \"Value(in Euro)\" <br>\n",
    "and store it as a variable\n",
    "- Subset the players whose value is above the mean value <br>\n",
    "  using \".query()\"\n",
    "\n",
    "\n",
    "HINT: Remember that there is a special syntax for <br>\n",
    "when the column names have spaces (see Lecture 10) <br>\n",
    "Reference the column as ``` `Value(in Euro)`    ``` inside .query()"
   ]
  },
  {
   "cell_type": "code",
   "execution_count": 35,
   "metadata": {},
   "outputs": [
    {
     "name": "stdout",
     "output_type": "stream",
     "text": [
      "            Known As           Full Name  Overall  Potential  Value(in Euro)  \\\n",
      "0           L. Messi        Lionel Messi       91         91        54000000   \n",
      "1         K. Benzema       Karim Benzema       91         91        64000000   \n",
      "2     R. Lewandowski  Robert Lewandowski       91         91        84000000   \n",
      "3       K. De Bruyne     Kevin De Bruyne       91         91       107500000   \n",
      "4          K. Mbappé       Kylian Mbappé       91         95       190500000   \n",
      "...              ...                 ...      ...        ...             ...   \n",
      "7066       F. Rieder       Fabian Rieder       68         83         2900000   \n",
      "7071     J. Bakayoko      Johan Bakayoko       68         85         3100000   \n",
      "7090        M. Arezo        Matías Arezo       68         81         2900000   \n",
      "7096       Y. Kallon        Yayah Kallon       68         82         3000000   \n",
      "7168        M. Soulé        Matías Soulé       68         85         3100000   \n",
      "\n",
      "     Positions Played Best Position   Nationality  \\\n",
      "0                  RW           CAM     Argentina   \n",
      "1               CF,ST            CF        France   \n",
      "2                  ST            ST        Poland   \n",
      "3              CM,CAM            CM       Belgium   \n",
      "4               ST,LW            ST        France   \n",
      "...               ...           ...           ...   \n",
      "7066           CAM,CM           CAM   Switzerland   \n",
      "7071               RW            LM       Belgium   \n",
      "7090           ST,CAM            ST       Uruguay   \n",
      "7096         RM,RW,CF            ST  Sierra Leone   \n",
      "7168               RW            LM     Argentina   \n",
      "\n",
      "                                            Image Link  Age  ...  \\\n",
      "0     https://cdn.sofifa.net/players/158/023/23_60.png   35  ...   \n",
      "1     https://cdn.sofifa.net/players/165/153/23_60.png   34  ...   \n",
      "2     https://cdn.sofifa.net/players/188/545/23_60.png   33  ...   \n",
      "3     https://cdn.sofifa.net/players/192/985/23_60.png   31  ...   \n",
      "4     https://cdn.sofifa.net/players/231/747/23_60.png   23  ...   \n",
      "...                                                ...  ...  ...   \n",
      "7066  https://cdn.sofifa.net/players/259/306/23_60.png   20  ...   \n",
      "7071  https://cdn.sofifa.net/players/265/450/23_60.png   19  ...   \n",
      "7090  https://cdn.sofifa.net/players/254/653/23_60.png   19  ...   \n",
      "7096  https://cdn.sofifa.net/players/262/333/23_60.png   21  ...   \n",
      "7168  https://cdn.sofifa.net/players/265/695/23_60.png   19  ...   \n",
      "\n",
      "      Preferred Foot  Weak Foot Rating  Skill Moves  International Reputation  \\\n",
      "0               Left                 4            4                         5   \n",
      "1              Right                 4            4                         4   \n",
      "2              Right                 4            4                         5   \n",
      "3              Right                 5            4                         4   \n",
      "4              Right                 4            5                         4   \n",
      "...              ...               ...          ...                       ...   \n",
      "7066            Left                 3            2                         1   \n",
      "7071            Left                 3            3                         1   \n",
      "7090           Right                 3            4                         1   \n",
      "7096            Left                 2            3                         1   \n",
      "7168            Left                 4            4                         1   \n",
      "\n",
      "     National Team Name             National Team Image Link  \\\n",
      "0             Argentina  https://cdn.sofifa.net/flags/ar.png   \n",
      "1                France  https://cdn.sofifa.net/flags/fr.png   \n",
      "2                Poland  https://cdn.sofifa.net/flags/pl.png   \n",
      "3               Belgium  https://cdn.sofifa.net/flags/be.png   \n",
      "4                France  https://cdn.sofifa.net/flags/fr.png   \n",
      "...                 ...                                  ...   \n",
      "7066                  -  https://cdn.sofifa.net/flags/ch.png   \n",
      "7071                  -  https://cdn.sofifa.net/flags/be.png   \n",
      "7090                  -  https://cdn.sofifa.net/flags/uy.png   \n",
      "7096                  -                                    -   \n",
      "7168                  -  https://cdn.sofifa.net/flags/ar.png   \n",
      "\n",
      "      National Team Position National Team Jersey Number Attacking Work Rate  \\\n",
      "0                         RW                          10                 Low   \n",
      "1                         ST                          19              Medium   \n",
      "2                         ST                           9                High   \n",
      "3                         RF                           7                High   \n",
      "4                         ST                          10                High   \n",
      "...                      ...                         ...                 ...   \n",
      "7066                       -                           -                High   \n",
      "7071                       -                           -                High   \n",
      "7090                       -                           -                High   \n",
      "7096                       -                           -                High   \n",
      "7168                       -                           -                High   \n",
      "\n",
      "     Defensive Work Rate  \n",
      "0                    Low  \n",
      "1                 Medium  \n",
      "2                 Medium  \n",
      "3                   High  \n",
      "4                    Low  \n",
      "...                  ...  \n",
      "7066              Medium  \n",
      "7071              Medium  \n",
      "7090              Medium  \n",
      "7096                 Low  \n",
      "7168              Medium  \n",
      "\n",
      "[3216 rows x 32 columns]\n"
     ]
    }
   ],
   "source": [
    "# Write your own code\n",
    "data = pd.read_csv('data/fifa23_players_basic.csv')\n",
    "\n",
    "mean_value = data['Value(in Euro)'].mean()\n",
    "players_above_mean_value = data.query('`Value(in Euro)` > ' + str(mean_value))\n",
    "\n",
    "print(players_above_mean_value)\n",
    "\n",
    "\n",
    "\n",
    "\n",
    "\n",
    "\n",
    "\n"
   ]
  },
  {
   "attachments": {},
   "cell_type": "markdown",
   "metadata": {},
   "source": [
    "<font size = \"5\">"
   ]
  }
 ],
 "metadata": {
  "kernelspec": {
   "display_name": "base",
   "language": "python",
   "name": "python3"
  },
  "language_info": {
   "codemirror_mode": {
    "name": "ipython",
    "version": 3
   },
   "file_extension": ".py",
   "mimetype": "text/x-python",
   "name": "python",
   "nbconvert_exporter": "python",
   "pygments_lexer": "ipython3",
   "version": "3.12.4"
  },
  "orig_nbformat": 4,
  "vscode": {
   "interpreter": {
    "hash": "45fc1f684f6f416f40889115beff3ddf69879b64cf4bfee48cb72a61e9d15d1a"
   }
  }
 },
 "nbformat": 4,
 "nbformat_minor": 2
}
